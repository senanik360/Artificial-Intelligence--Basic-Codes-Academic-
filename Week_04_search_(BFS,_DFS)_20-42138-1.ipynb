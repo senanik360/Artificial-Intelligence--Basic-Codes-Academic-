{
  "cells": [
    {
      "cell_type": "markdown",
      "metadata": {
        "id": "-1O3g3SYNQPX"
      },
      "source": [
        "![map.JPG](attachment:map.JPG)"
      ]
    },
    {
      "cell_type": "code",
      "execution_count": null,
      "metadata": {
        "id": "4aNhyGT0NQPv"
      },
      "outputs": [],
      "source": [
        "romanian_map = {\n",
        "    'Arad': {'Sibiu':140, 'Zerind':75, 'Timisoara':118},\n",
        "    'Zerind': {'Arad':75, 'Oradea':71},\n",
        "    'Oradea': {'Zerind':71, 'Sibiu': 151},\n",
        "    'Sibiu': {'Arad':140, 'Oradea':151, 'Fagaras':99, 'Rimnicu':80},\n",
        "    'Timisoara': {'Arad': 118, 'Lugoj':111},\n",
        "    'Lugoj': {'Timisoara':111, 'Mehadia':70},\n",
        "    'Mehadia': {'Lugoj': 70, 'Drobeta':75},\n",
        "    'Drobeta': {'Mehadia':75, 'Craiova':120},\n",
        "    'Craiova': {'Drobeta': 120, 'Rimnicu': 146, 'Pitesti': 138},\n",
        "    'Rimnicu': {'Sibiu': 80, 'Craiova': 146, 'Pitesti': 97},\n",
        "    'Fagaras': {'Sibiu':99, 'Bucharest':211},\n",
        "    'Pitesti': {'Rimnicu': 97, 'Craiova':138, 'Bucharest':101},\n",
        "    'Bucharest': {'Fagaras':211, 'Pitesti': 101, 'Giurgiu':90, 'Urziceni':85},\n",
        "    'Giurgiu': {'Bucharest': 90},\n",
        "    'Urziceni': {'Bucharest': 85, 'Vaslui':142, 'Hirsova':98},\n",
        "    'Hirsova': {'Urziceni':98, 'Eforie':86},\n",
        "    'Eforie': {'Hirsova':86},\n",
        "    'Vaslui': {'Iasi': 92, 'Urziceni':142},\n",
        "    'Iasi': {'Vaslui':92, 'Neamt': 87},\n",
        "    'Neamt': {'Iasi':87}\n",
        "}"
      ]
    },
    {
      "cell_type": "code",
      "source": [
        ""
      ],
      "metadata": {
        "id": "Wi2VHeNFnZlI"
      },
      "execution_count": null,
      "outputs": []
    },
    {
      "cell_type": "code",
      "execution_count": null,
      "metadata": {
        "colab": {
          "base_uri": "https://localhost:8080/"
        },
        "id": "h-iGsBUPNQQg",
        "outputId": "c7622d14-0151-4927-aafb-5ad1468df2b3"
      },
      "outputs": [
        {
          "output_type": "execute_result",
          "data": {
            "text/plain": [
              "{'Sibiu': 140, 'Timisoara': 118, 'Zerind': 75}"
            ]
          },
          "metadata": {},
          "execution_count": 2
        }
      ],
      "source": [
        "romanian_map['Arad']"
      ]
    },
    {
      "cell_type": "code",
      "execution_count": null,
      "metadata": {
        "colab": {
          "base_uri": "https://localhost:8080/"
        },
        "id": "x8Z9GdMvNQQj",
        "outputId": "3612f623-27b4-4131-9be2-0ceead92d362"
      },
      "outputs": [
        {
          "output_type": "execute_result",
          "data": {
            "text/plain": [
              "['Sibiu', 'Zerind', 'Timisoara']"
            ]
          },
          "metadata": {},
          "execution_count": 3
        }
      ],
      "source": [
        "list(romanian_map['Arad'].keys())"
      ]
    },
    {
      "cell_type": "code",
      "execution_count": null,
      "metadata": {
        "colab": {
          "base_uri": "https://localhost:8080/"
        },
        "id": "wJ7uyya9NQQl",
        "outputId": "9a2019d3-0cc9-41ab-853c-d9139560dbd3"
      },
      "outputs": [
        {
          "output_type": "execute_result",
          "data": {
            "text/plain": [
              "75"
            ]
          },
          "metadata": {},
          "execution_count": 4
        }
      ],
      "source": [
        "romanian_map['Arad']['Zerind']"
      ]
    },
    {
      "cell_type": "code",
      "source": [
        "romanian_map['Zerind']['Arad']"
      ],
      "metadata": {
        "colab": {
          "base_uri": "https://localhost:8080/"
        },
        "id": "ybqAMUbpPnOr",
        "outputId": "71397647-102a-440e-eb77-cdb52cfe066a"
      },
      "execution_count": null,
      "outputs": [
        {
          "output_type": "execute_result",
          "data": {
            "text/plain": [
              "75"
            ]
          },
          "metadata": {},
          "execution_count": 5
        }
      ]
    },
    {
      "cell_type": "code",
      "execution_count": null,
      "metadata": {
        "colab": {
          "base_uri": "https://localhost:8080/"
        },
        "id": "cV_e6zwENQQr",
        "outputId": "dae61290-ef36-436e-e402-ec02b3e8806a"
      },
      "outputs": [
        {
          "output_type": "execute_result",
          "data": {
            "text/plain": [
              "['Arad',\n",
              " 'Zerind',\n",
              " 'Oradea',\n",
              " 'Sibiu',\n",
              " 'Timisoara',\n",
              " 'Lugoj',\n",
              " 'Mehadia',\n",
              " 'Drobeta',\n",
              " 'Craiova',\n",
              " 'Rimnicu',\n",
              " 'Fagaras',\n",
              " 'Pitesti',\n",
              " 'Bucharest',\n",
              " 'Giurgiu',\n",
              " 'Urziceni',\n",
              " 'Hirsova',\n",
              " 'Eforie',\n",
              " 'Vaslui',\n",
              " 'Iasi',\n",
              " 'Neamt']"
            ]
          },
          "metadata": {},
          "execution_count": 6
        }
      ],
      "source": [
        "list(romanian_map.keys())"
      ]
    },
    {
      "cell_type": "markdown",
      "metadata": {
        "id": "rUSyZS74NQQs"
      },
      "source": [
        "# BFS"
      ]
    },
    {
      "cell_type": "markdown",
      "source": [
        "<p style=\"text-align: justify\">Reached is a set of states which has been generated, because once we’ve reached a state, Early goal test we can never find a better path to the state. That also means we can do an early goal test, Late goal test checking whether a node is a solution as soon as it is generated, rather than the late goal test that best-first search uses, waiting until a node is popped off the queue.</p>"
      ],
      "metadata": {
        "id": "EVr_9nMTeiR_"
      }
    },
    {
      "cell_type": "code",
      "execution_count": null,
      "metadata": {
        "id": "L3961YcCNQQu"
      },
      "outputs": [],
      "source": [
        "def bfs(startingNode, destinationNode):\n",
        "    reached = [] # to store reached (generated) nodes\n",
        "    expand_sequence = [] # to store the order of nodes expanded\n",
        "    frontier = []\n",
        "\n",
        "    snode = {'City':startingNode,'Path cost':0, 'Path':[startingNode]}\n",
        "    frontier.append(snode)    # insert the starting node\n",
        "    reached.append(startingNode)\n",
        "    \n",
        "    while len(frontier) > 0:\n",
        "        print(frontier)\n",
        "        unode  = frontier.pop(0)     # selceting the node to expand\n",
        "        u = unode['City']\n",
        "        expand_sequence.append(u)\n",
        "        print(u + \" expanding..\")\n",
        "        # expand u\n",
        "        \n",
        "        for v in romanian_map[u].keys():\n",
        "            if v not in reached: # process if v is not reached (generated) yet                \n",
        "                print(v+\" generated.\")\n",
        "                cost = unode['Path cost'] + romanian_map[u][v] \n",
        "                path =  unode['Path']+ [v]\n",
        "                vnode = {'City': v,'Path cost': cost,'Path': path}\n",
        "                frontier.append(vnode)# store the new child node in the frontier\n",
        "                reached.append(v)\n",
        "                # goal test\n",
        "                if v == destinationNode:\n",
        "                    #print(vnode)\n",
        "                    print(expand_sequence)\n",
        "                    return vnode # breaking from while\n",
        "    print('Failed')   "
      ]
    },
    {
      "cell_type": "code",
      "source": [
        ""
      ],
      "metadata": {
        "id": "eNKzDLLGpXBf"
      },
      "execution_count": null,
      "outputs": []
    },
    {
      "cell_type": "code",
      "execution_count": null,
      "metadata": {
        "colab": {
          "base_uri": "https://localhost:8080/"
        },
        "id": "OX3FUTH9NQQy",
        "outputId": "929b13b0-fbfd-4d01-cb5e-55b5efbf21f6"
      },
      "outputs": [
        {
          "output_type": "stream",
          "name": "stdout",
          "text": [
            "[{'City': 'Arad', 'Path cost': 0, 'Path': ['Arad']}]\n",
            "Arad expanding..\n",
            "Sibiu generated.\n",
            "Zerind generated.\n",
            "Timisoara generated.\n",
            "[{'City': 'Sibiu', 'Path cost': 140, 'Path': ['Arad', 'Sibiu']}, {'City': 'Zerind', 'Path cost': 75, 'Path': ['Arad', 'Zerind']}, {'City': 'Timisoara', 'Path cost': 118, 'Path': ['Arad', 'Timisoara']}]\n",
            "Sibiu expanding..\n",
            "Oradea generated.\n",
            "Fagaras generated.\n",
            "Rimnicu generated.\n",
            "[{'City': 'Zerind', 'Path cost': 75, 'Path': ['Arad', 'Zerind']}, {'City': 'Timisoara', 'Path cost': 118, 'Path': ['Arad', 'Timisoara']}, {'City': 'Oradea', 'Path cost': 291, 'Path': ['Arad', 'Sibiu', 'Oradea']}, {'City': 'Fagaras', 'Path cost': 239, 'Path': ['Arad', 'Sibiu', 'Fagaras']}, {'City': 'Rimnicu', 'Path cost': 220, 'Path': ['Arad', 'Sibiu', 'Rimnicu']}]\n",
            "Zerind expanding..\n",
            "[{'City': 'Timisoara', 'Path cost': 118, 'Path': ['Arad', 'Timisoara']}, {'City': 'Oradea', 'Path cost': 291, 'Path': ['Arad', 'Sibiu', 'Oradea']}, {'City': 'Fagaras', 'Path cost': 239, 'Path': ['Arad', 'Sibiu', 'Fagaras']}, {'City': 'Rimnicu', 'Path cost': 220, 'Path': ['Arad', 'Sibiu', 'Rimnicu']}]\n",
            "Timisoara expanding..\n",
            "Lugoj generated.\n",
            "[{'City': 'Oradea', 'Path cost': 291, 'Path': ['Arad', 'Sibiu', 'Oradea']}, {'City': 'Fagaras', 'Path cost': 239, 'Path': ['Arad', 'Sibiu', 'Fagaras']}, {'City': 'Rimnicu', 'Path cost': 220, 'Path': ['Arad', 'Sibiu', 'Rimnicu']}, {'City': 'Lugoj', 'Path cost': 229, 'Path': ['Arad', 'Timisoara', 'Lugoj']}]\n",
            "Oradea expanding..\n",
            "[{'City': 'Fagaras', 'Path cost': 239, 'Path': ['Arad', 'Sibiu', 'Fagaras']}, {'City': 'Rimnicu', 'Path cost': 220, 'Path': ['Arad', 'Sibiu', 'Rimnicu']}, {'City': 'Lugoj', 'Path cost': 229, 'Path': ['Arad', 'Timisoara', 'Lugoj']}]\n",
            "Fagaras expanding..\n",
            "Bucharest generated.\n",
            "['Arad', 'Sibiu', 'Zerind', 'Timisoara', 'Oradea', 'Fagaras']\n"
          ]
        },
        {
          "output_type": "execute_result",
          "data": {
            "text/plain": [
              "{'City': 'Bucharest',\n",
              " 'Path': ['Arad', 'Sibiu', 'Fagaras', 'Bucharest'],\n",
              " 'Path cost': 450}"
            ]
          },
          "metadata": {},
          "execution_count": 8
        }
      ],
      "source": [
        "bfs('Arad', 'Bucharest') # change the soure and destination"
      ]
    },
    {
      "cell_type": "code",
      "source": [
        ""
      ],
      "metadata": {
        "id": "hJ2OEnlecYA1"
      },
      "execution_count": null,
      "outputs": []
    },
    {
      "cell_type": "markdown",
      "metadata": {
        "id": "MA8md-K-NQQ1"
      },
      "source": [
        "# DFS\n",
        "Implement DFS using stack,\n",
        "Implement stack using list (append and pop) "
      ]
    },
    {
      "cell_type": "code",
      "execution_count": null,
      "metadata": {
        "id": "IMjLNkxdNQQ2"
      },
      "outputs": [],
      "source": [
        "def dfs(startingNode, destinationNode):\n",
        "    reached = [] # to store reached (generated) nodes\n",
        "    expand_sequence = [] # to store the order of nodes expanded\n",
        "    frontier = []\n",
        "\n",
        "    snode = {'City':startingNode,'Path cost':0, 'Path':[startingNode]}\n",
        "    frontier.append(snode)    # insert the starting node\n",
        "    reached.append(startingNode)\n",
        "    \n",
        "    while len(frontier) > 0:\n",
        "        print(frontier)\n",
        "        unode  = frontier.pop(-1)     # selceting the node to expand\n",
        "        u = unode['City']\n",
        "        expand_sequence.append(u)\n",
        "        print(u + \" expanding..\")\n",
        "        # expand u\n",
        "        # goal test\n",
        "        if u == destinationNode:\n",
        "                    #print(unode)\n",
        "                    print(expand_sequence)\n",
        "                    return unode \n",
        "                  \n",
        "        for v in romanian_map[u].keys():\n",
        "            if v not in reached: # process if v is not reached (generated) yet                \n",
        "                print(v+\" generated.\")\n",
        "                cost = unode['Path cost'] + romanian_map[u][v] \n",
        "                path =  unode['Path']+ [v]\n",
        "                vnode = {'City': v,'Path cost': cost,'Path': path}\n",
        "                frontier.append(vnode)# store the new child node in the frontier\n",
        "                reached.append(v)         \n",
        "        print('Failed')  "
      ]
    },
    {
      "cell_type": "code",
      "source": [
        "dfs('Arad', 'Bucharest')"
      ],
      "metadata": {
        "colab": {
          "base_uri": "https://localhost:8080/"
        },
        "id": "q7fKxK_UgUGb",
        "outputId": "f9637195-70be-4bd0-f9d7-f2be7d08e6a2"
      },
      "execution_count": null,
      "outputs": [
        {
          "output_type": "stream",
          "name": "stdout",
          "text": [
            "[{'City': 'Arad', 'Path cost': 0, 'Path': ['Arad']}]\n",
            "Arad expanding..\n",
            "Sibiu generated.\n",
            "Zerind generated.\n",
            "Timisoara generated.\n",
            "Failed\n",
            "[{'City': 'Sibiu', 'Path cost': 140, 'Path': ['Arad', 'Sibiu']}, {'City': 'Zerind', 'Path cost': 75, 'Path': ['Arad', 'Zerind']}, {'City': 'Timisoara', 'Path cost': 118, 'Path': ['Arad', 'Timisoara']}]\n",
            "Timisoara expanding..\n",
            "Lugoj generated.\n",
            "Failed\n",
            "[{'City': 'Sibiu', 'Path cost': 140, 'Path': ['Arad', 'Sibiu']}, {'City': 'Zerind', 'Path cost': 75, 'Path': ['Arad', 'Zerind']}, {'City': 'Lugoj', 'Path cost': 229, 'Path': ['Arad', 'Timisoara', 'Lugoj']}]\n",
            "Lugoj expanding..\n",
            "Mehadia generated.\n",
            "Failed\n",
            "[{'City': 'Sibiu', 'Path cost': 140, 'Path': ['Arad', 'Sibiu']}, {'City': 'Zerind', 'Path cost': 75, 'Path': ['Arad', 'Zerind']}, {'City': 'Mehadia', 'Path cost': 299, 'Path': ['Arad', 'Timisoara', 'Lugoj', 'Mehadia']}]\n",
            "Mehadia expanding..\n",
            "Drobeta generated.\n",
            "Failed\n",
            "[{'City': 'Sibiu', 'Path cost': 140, 'Path': ['Arad', 'Sibiu']}, {'City': 'Zerind', 'Path cost': 75, 'Path': ['Arad', 'Zerind']}, {'City': 'Drobeta', 'Path cost': 374, 'Path': ['Arad', 'Timisoara', 'Lugoj', 'Mehadia', 'Drobeta']}]\n",
            "Drobeta expanding..\n",
            "Craiova generated.\n",
            "Failed\n",
            "[{'City': 'Sibiu', 'Path cost': 140, 'Path': ['Arad', 'Sibiu']}, {'City': 'Zerind', 'Path cost': 75, 'Path': ['Arad', 'Zerind']}, {'City': 'Craiova', 'Path cost': 494, 'Path': ['Arad', 'Timisoara', 'Lugoj', 'Mehadia', 'Drobeta', 'Craiova']}]\n",
            "Craiova expanding..\n",
            "Rimnicu generated.\n",
            "Pitesti generated.\n",
            "Failed\n",
            "[{'City': 'Sibiu', 'Path cost': 140, 'Path': ['Arad', 'Sibiu']}, {'City': 'Zerind', 'Path cost': 75, 'Path': ['Arad', 'Zerind']}, {'City': 'Rimnicu', 'Path cost': 640, 'Path': ['Arad', 'Timisoara', 'Lugoj', 'Mehadia', 'Drobeta', 'Craiova', 'Rimnicu']}, {'City': 'Pitesti', 'Path cost': 632, 'Path': ['Arad', 'Timisoara', 'Lugoj', 'Mehadia', 'Drobeta', 'Craiova', 'Pitesti']}]\n",
            "Pitesti expanding..\n",
            "Bucharest generated.\n",
            "Failed\n",
            "[{'City': 'Sibiu', 'Path cost': 140, 'Path': ['Arad', 'Sibiu']}, {'City': 'Zerind', 'Path cost': 75, 'Path': ['Arad', 'Zerind']}, {'City': 'Rimnicu', 'Path cost': 640, 'Path': ['Arad', 'Timisoara', 'Lugoj', 'Mehadia', 'Drobeta', 'Craiova', 'Rimnicu']}, {'City': 'Bucharest', 'Path cost': 733, 'Path': ['Arad', 'Timisoara', 'Lugoj', 'Mehadia', 'Drobeta', 'Craiova', 'Pitesti', 'Bucharest']}]\n",
            "Bucharest expanding..\n",
            "['Arad', 'Timisoara', 'Lugoj', 'Mehadia', 'Drobeta', 'Craiova', 'Pitesti', 'Bucharest']\n"
          ]
        },
        {
          "output_type": "execute_result",
          "data": {
            "text/plain": [
              "{'City': 'Bucharest',\n",
              " 'Path': ['Arad',\n",
              "  'Timisoara',\n",
              "  'Lugoj',\n",
              "  'Mehadia',\n",
              "  'Drobeta',\n",
              "  'Craiova',\n",
              "  'Pitesti',\n",
              "  'Bucharest'],\n",
              " 'Path cost': 733}"
            ]
          },
          "metadata": {},
          "execution_count": 13
        }
      ]
    },
    {
      "cell_type": "code",
      "source": [
        "map = {\n",
        "    'A' : {'B':3,'C':1},\n",
        "    'B' : {'D':1},\n",
        "    'C' : {'D':1,'G':2},\n",
        "    'D' : {'G':3},\n",
        "    'S' : {'A':1,'G':12},\n",
        "    'G' : {}\n",
        "}"
      ],
      "metadata": {
        "id": "HtxNtZxYnbxk"
      },
      "execution_count": null,
      "outputs": []
    },
    {
      "cell_type": "code",
      "source": [
        "def bfsE(startingNode, destinationNode):\n",
        "    reached = [] # to store reached (generated) nodes\n",
        "    expand_sequence = [] # to store the order of nodes expanded\n",
        "    frontier = []\n",
        "\n",
        "    snode = {'City':startingNode,'Path cost':0, 'Path':[startingNode]}\n",
        "    frontier.append(snode)    # insert the starting node\n",
        "    reached.append(startingNode)\n",
        "    \n",
        "    while len(frontier) > 0:\n",
        "        print(frontier)\n",
        "        unode  = frontier.pop(0)     # selceting the node to expand\n",
        "        u = unode['City']\n",
        "        expand_sequence.append(u)\n",
        "        print(u + \" expanding..\")\n",
        "        # expand u\n",
        "        \n",
        "        for v in map[u].keys():\n",
        "            if v not in reached: # process if v is not reached (generated) yet                \n",
        "                print(v+\" generated.\")\n",
        "                cost = unode['Path cost'] + map[u][v] \n",
        "                path =  unode['Path']+ [v]\n",
        "                vnode = {'City': v,'Path cost': cost,'Path': path}\n",
        "                frontier.append(vnode)# store the new child node in the frontier\n",
        "                reached.append(v)\n",
        "                # goal test\n",
        "                if v == destinationNode:\n",
        "                    #print(vnode)\n",
        "                    print(expand_sequence)\n",
        "                    return vnode # breaking from while\n",
        "    print('Failed')   "
      ],
      "metadata": {
        "id": "XQUeKYh_pZUP"
      },
      "execution_count": null,
      "outputs": []
    },
    {
      "cell_type": "code",
      "source": [
        "def dfsE(startingNode, destinationNode):\n",
        "    reached = [] # to store reached (generated) nodes\n",
        "    expand_sequence = [] # to store the order of nodes expanded\n",
        "    frontier = []\n",
        "\n",
        "    snode = {'City':startingNode,'Path cost':0, 'Path':[startingNode]}\n",
        "    frontier.append(snode)    # insert the starting node\n",
        "    reached.append(startingNode)\n",
        "    \n",
        "    while len(frontier) > 0:\n",
        "        print(frontier)\n",
        "        unode  = frontier.pop(-1)     # selceting the node to expand\n",
        "        u = unode['City']\n",
        "        expand_sequence.append(u)\n",
        "        print(u + \" expanding..\")\n",
        "        # expand u\n",
        "        # goal test\n",
        "        if u == destinationNode:\n",
        "                    #print(unode)\n",
        "                    print(expand_sequence)\n",
        "                    return unode \n",
        "                  \n",
        "        for v in map[u].keys():\n",
        "            if v not in reached: # process if v is not reached (generated) yet                \n",
        "                print(v+\" generated.\")\n",
        "                cost = unode['Path cost'] + map[u][v] \n",
        "                path =  unode['Path']+ [v]\n",
        "                vnode = {'City': v,'Path cost': cost,'Path': path}\n",
        "                frontier.append(vnode)# store the new child node in the frontier\n",
        "                reached.append(v)         \n",
        "        print('Failed')  "
      ],
      "metadata": {
        "id": "uCNsV0Xgpcj2"
      },
      "execution_count": null,
      "outputs": []
    },
    {
      "cell_type": "code",
      "source": [
        "bfsE('S', 'G')"
      ],
      "metadata": {
        "colab": {
          "base_uri": "https://localhost:8080/"
        },
        "id": "4ytsmv1VqDi-",
        "outputId": "79113914-468e-41a8-f4a0-44619d31ed7c"
      },
      "execution_count": null,
      "outputs": [
        {
          "output_type": "stream",
          "name": "stdout",
          "text": [
            "[{'City': 'S', 'Path cost': 0, 'Path': ['S']}]\n",
            "S expanding..\n",
            "A generated.\n",
            "G generated.\n",
            "['S']\n"
          ]
        },
        {
          "output_type": "execute_result",
          "data": {
            "text/plain": [
              "{'City': 'G', 'Path': ['S', 'G'], 'Path cost': 12}"
            ]
          },
          "metadata": {},
          "execution_count": 34
        }
      ]
    },
    {
      "cell_type": "code",
      "source": [
        "list(map.keys())"
      ],
      "metadata": {
        "colab": {
          "base_uri": "https://localhost:8080/"
        },
        "id": "iJltbzA9q0Zv",
        "outputId": "ae696d6f-8d63-40ad-de4e-11d6b9ff304a"
      },
      "execution_count": null,
      "outputs": [
        {
          "output_type": "execute_result",
          "data": {
            "text/plain": [
              "['A', 'B', 'C', 'D', 'S', 'G']"
            ]
          },
          "metadata": {},
          "execution_count": 21
        }
      ]
    },
    {
      "cell_type": "code",
      "source": [
        "dfsE('S', 'G')"
      ],
      "metadata": {
        "colab": {
          "base_uri": "https://localhost:8080/"
        },
        "id": "FVfuKNTmqa9d",
        "outputId": "aafcc696-d4ba-4592-e9f3-66da2cb40c0c"
      },
      "execution_count": null,
      "outputs": [
        {
          "output_type": "stream",
          "name": "stdout",
          "text": [
            "[{'City': 'S', 'Path cost': 0, 'Path': ['S']}]\n",
            "S expanding..\n",
            "A generated.\n",
            "G generated.\n",
            "Failed\n",
            "[{'City': 'A', 'Path cost': 1, 'Path': ['S', 'A']}, {'City': 'G', 'Path cost': 12, 'Path': ['S', 'G']}]\n",
            "G expanding..\n",
            "['S', 'G']\n"
          ]
        },
        {
          "output_type": "execute_result",
          "data": {
            "text/plain": [
              "{'City': 'G', 'Path': ['S', 'G'], 'Path cost': 12}"
            ]
          },
          "metadata": {},
          "execution_count": 35
        }
      ]
    }
  ],
  "metadata": {
    "kernelspec": {
      "display_name": "Python 3",
      "language": "python",
      "name": "python3"
    },
    "language_info": {
      "codemirror_mode": {
        "name": "ipython",
        "version": 3
      },
      "file_extension": ".py",
      "mimetype": "text/x-python",
      "name": "python",
      "nbconvert_exporter": "python",
      "pygments_lexer": "ipython3",
      "version": "3.8.8"
    },
    "colab": {
      "name": "Week 04 search (BFS, DFS).ipynb",
      "provenance": [],
      "collapsed_sections": []
    }
  },
  "nbformat": 4,
  "nbformat_minor": 0
}