{
  "cells": [
    {
      "cell_type": "markdown",
      "metadata": {
        "id": "reej2tDWSyeX"
      },
      "source": [
        "Vaccum Cleaning Agent with locations A and B"
      ]
    },
    {
      "cell_type": "markdown",
      "metadata": {
        "id": "OmRycx4GSyeY"
      },
      "source": [
        "![vc.png](attachment:vc.png)"
      ]
    },
    {
      "cell_type": "markdown",
      "source": [
        "# Some important things:\n",
        "\n",
        "1. Agent Description: The aim of the agent .....\n",
        "2. List the sensors: Location, Status\n",
        "3. Sensors' values:\n",
        ">Location -> {A, B}, Status -> {Dirty, Clean}\n",
        "4. List the actions: Suck, Right, Left\n",
        "5. Agent function: **perception --> action**\n",
        "> [A, Clean] --> Right <br>\n",
        "> [A, Dirty] --> Suck<br>\n",
        "> [B, Clean] --> Left<br>\n",
        "> [B, Dirty] --> Suck<br>\n",
        "\n"
      ],
      "metadata": {
        "id": "JB_wyml9WUg4"
      }
    },
    {
      "cell_type": "markdown",
      "metadata": {
        "id": "jKEeqHbzSyeQ"
      },
      "source": [
        "# Table driven agent"
      ]
    },
    {
      "cell_type": "code",
      "execution_count": null,
      "metadata": {
        "id": "oYvL-4cuSyeZ",
        "outputId": "e4fea484-ed1a-4585-ee7d-52dcf1172c2c",
        "colab": {
          "base_uri": "https://localhost:8080/"
        }
      },
      "outputs": [
        {
          "name": "stdout",
          "output_type": "stream",
          "text": [
            "Perception Received: ('A', 'Dirty')\n",
            "Action Performed: Suck\n",
            "Get Perception (yes/no): yes\n",
            "Perception Received: ('A', 'Clean')\n",
            "Action Performed: Right\n",
            "Get Perception (yes/no): yes\n",
            "Perception Received: ('B', 'Dirty')\n",
            "Action Performed: Suck\n",
            "Get Perception (yes/no): yes\n",
            "Perception Received: ('B', 'Clean')\n",
            "Action Performed: Left\n",
            "Get Perception (yes/no): yes\n",
            "Perception Received: ('A', 'Clean')\n",
            "Action Performed: Right\n",
            "Get Perception (yes/no): no\n"
          ]
        }
      ],
      "source": [
        "table={('A','Clean'):'Right',\n",
        "       ('A','Dirty'):'Suck',\n",
        "       ('B','Clean'):'Left',\n",
        "       ('B','Dirty'):'Suck'}\n",
        "\n",
        "percepts=[]  # to store percept sequence  \n",
        "def table_driven_agent(percept):\n",
        "    print('Perception Received: '+ str(percept))\n",
        "    percepts.append(percept) # updating percept history\n",
        "    action = lookup(percept,table) # searching for action\n",
        "    return action\n",
        "\n",
        "def lookup(percept,table):\n",
        "    return table[percept]\n",
        "\n",
        "# lets simulate the agent\n",
        "import random\n",
        "Location = random.choice(['A','B'])\n",
        "Condition = random.choice(['Clean','Dirty'])\n",
        "\n",
        "while True: # to perceieve environment repeatedly\n",
        "    action = table_driven_agent((Location, Condition))\n",
        "    print('Action Performed: '+ action)\n",
        "    cmd = input('Get Perception (yes/no): ')\n",
        "    if(cmd != 'yes'): break\n",
        "    if action == 'Right':\n",
        "        Location = 'B'\n",
        "        Condition = random.choice(['Clean','Dirty'])\n",
        "    elif action == 'Left':\n",
        "        Location = 'A'\n",
        "        Condition = random.choice(['Clean','Dirty'])\n",
        "    else:\n",
        "        Condition = 'Clean'   "
      ]
    },
    {
      "cell_type": "markdown",
      "metadata": {
        "id": "yfOFRdsmSyec"
      },
      "source": [
        "# Simple reflex agent"
      ]
    },
    {
      "cell_type": "code",
      "execution_count": 14,
      "metadata": {
        "id": "GfEzFJTVSyed",
        "outputId": "2a6f5747-c923-4439-98d5-c4a46aee3839",
        "colab": {
          "base_uri": "https://localhost:8080/"
        }
      },
      "outputs": [
        {
          "name": "stdout",
          "output_type": "stream",
          "text": [
            "Perception Received: ('A', 'Clean')\n",
            "Action Performed: Right\n",
            "Get Perception (yes/no): yes\n",
            "Perception Received: ('B', 'Clean')\n",
            "Action Performed: Left\n",
            "Get Perception (yes/no): yes\n",
            "Perception Received: ('A', 'Dirty')\n",
            "Action Performed: Suck\n",
            "Get Perception (yes/no): yes\n",
            "Perception Received: ('A', 'Clean')\n",
            "Action Performed: Right\n",
            "Get Perception (yes/no): no\n"
          ]
        }
      ],
      "source": [
        "def simple_reflex_agent(percept):\n",
        "    print('Perception Received: '+ str(percept))\n",
        "    location = percept[0]\n",
        "    status = percept[1]\n",
        "    if status =='Dirty':\n",
        "        action = 'Suck'\n",
        "    elif location == 'A':\n",
        "        action = 'Right'\n",
        "    elif location =='B':\n",
        "        action = 'Left'\n",
        "    return action\n",
        "\n",
        "import random\n",
        "Location = random.choice(['A','B'])\n",
        "Condition = random.choice(['Clean','Dirty'])\n",
        "\n",
        "while True:\n",
        "    action= simple_reflex_agent((Location,Condition))\n",
        "    print('Action Performed: '+ action)\n",
        "    cmd = input('Get Perception (yes/no): ')\n",
        "    if(cmd == 'no' or cmd != 'yes'): break\n",
        "    if action == 'Right':\n",
        "        Location = 'B'\n",
        "        Condition = random.choice(['Clean','Dirty'])\n",
        "    elif action== 'Left':\n",
        "        Location = 'A'\n",
        "        Condition = random.choice(['Clean','Dirty'])\n",
        "    else:\n",
        "        Condition = 'Clean'   "
      ]
    },
    {
      "cell_type": "markdown",
      "metadata": {
        "id": "wA7yF32tSyee"
      },
      "source": [
        "# Model based agent"
      ]
    },
    {
      "cell_type": "code",
      "execution_count": null,
      "metadata": {
        "id": "djwVDNKgSyef",
        "outputId": "cc960923-9ee2-42fe-ee1a-a203ab580a39",
        "colab": {
          "base_uri": "https://localhost:8080/"
        }
      },
      "outputs": [
        {
          "name": "stdout",
          "output_type": "stream",
          "text": [
            "*****\n",
            "Perception: ('B', 'Dirty')\n",
            "Action Performed: Suck\n",
            "Model: {'A': 'Unknown', 'B': 'Clean'}\n",
            "State: Bad\n",
            "*****\n",
            "Perception: ('B', 'Clean')\n",
            "Action Performed: Left\n",
            "Model: {'A': 'Unknown', 'B': 'Clean'}\n",
            "State: Bad\n",
            "*****\n",
            "Perception: ('A', 'Clean')\n",
            "Action Performed: Right\n",
            "Model: {'A': 'Clean', 'B': 'Clean'}\n",
            "State: Good\n",
            "*****\n",
            "Stopped. Do restart? (yes/no): yes\n",
            "*****\n",
            "Perception: ('A', 'Dirty')\n",
            "Action Performed: Suck\n",
            "Model: {'A': 'Clean', 'B': 'Unknown'}\n",
            "State: Bad\n",
            "*****\n",
            "Perception: ('A', 'Clean')\n",
            "Action Performed: Right\n",
            "Model: {'A': 'Clean', 'B': 'Unknown'}\n",
            "State: Bad\n",
            "*****\n",
            "Perception: ('B', 'Clean')\n",
            "Action Performed: Left\n",
            "Model: {'A': 'Clean', 'B': 'Clean'}\n",
            "State: Good\n",
            "*****\n",
            "Stopped. Do restart? (yes/no): m\n"
          ]
        }
      ],
      "source": [
        "model = {'A':'Unknown', 'B':'Unknown'}\n",
        "world_state = 'Bad'\n",
        "action = 'Unknown'\n",
        "\n",
        "def update_state(action, percept, model):\n",
        "    location = percept[0]\n",
        "    status = percept[1]\n",
        "    model[location] = status #udate the model based on current perception\n",
        "    \n",
        "    global world_state\n",
        "    #udate the model based on action\n",
        "    if action == 'Suck':\n",
        "        model[location]='Clean'\n",
        "    # model checking to update world state\n",
        "    if model['A']=='Clean' and model['B']=='Clean': \n",
        "        world_state = 'Good'\n",
        "    else:\n",
        "        world_state = 'Bad'\n",
        "    return world_state\n",
        "        \n",
        "\n",
        "def model_based_reflex_agent(percept):\n",
        "    location = percept[0]\n",
        "    status = percept[1]\n",
        "    \n",
        "    global world_state,action,model\n",
        "    \n",
        "    if world_state == 'Good':\n",
        "        action = 'Pause'\n",
        "        return action\n",
        "    elif status == 'Dirty':\n",
        "        action = 'Suck'\n",
        "    elif location == 'A':\n",
        "        action = 'Right'\n",
        "    elif location == 'B':\n",
        "        action = 'Left'\n",
        "    world_state = update_state(action, percept, model)\n",
        "    print('Perception: '+str(percept)) \n",
        "    print('Action Performed: '+ action)    \n",
        "    print('Model: '+str(model))   \n",
        "    print('State: '+str(world_state))    \n",
        "    return action\n",
        "\n",
        "\n",
        "import random\n",
        "Location = random.choice(['A','B'])\n",
        "Condition= random.choice(['Clean','Dirty'])\n",
        "\n",
        "while True:\n",
        "    print('*****')\n",
        "    action = model_based_reflex_agent((Location,Condition))\n",
        "    if action == 'Right':\n",
        "        Location = 'B'\n",
        "        Condition = random.choice(['Clean','Dirty'])\n",
        "    elif action == 'Left':\n",
        "        Location = 'A'\n",
        "        Condition = random.choice(['Clean','Dirty'])\n",
        "    elif action == 'Suck':\n",
        "        Condition = 'Clean'\n",
        "    elif action == 'Pause':\n",
        "        cmd = input('Stopped. Do restart? (yes/no): ')\n",
        "        if(cmd == 'no' or cmd != 'yes'): break\n",
        "        Location = random.choice(['A','B'])\n",
        "        Condition = random.choice(['Clean','Dirty'])\n",
        "        model = {'A':'Unknown', 'B':'Unknown'}\n",
        "        world_state = 'Bad'\n",
        "        action = 'Unknown'    "
      ]
    },
    {
      "cell_type": "markdown",
      "metadata": {
        "id": "SduRNewjSyeg"
      },
      "source": [
        "# **Exercise 1**"
      ]
    },
    {
      "cell_type": "markdown",
      "metadata": {
        "id": "XQfOSnycSyeh"
      },
      "source": [
        "Implement diffierent types of agent implementation to do a certain task of your choice. \n",
        "1. Table Driven Agent\n",
        "2. Simple Reflex Agent\n",
        "\n",
        "<p><b>Before implementation describe the following:</b></p>\n",
        "\n",
        "1. Agent Description: The aim of the agent is control trafic\n",
        "2. List the sensors: Signal, Status\n",
        "3. Sensors' values: \n",
        "    Radar -> {RED, GREEN}, Status -> {On, Off}\n",
        "4. List the actions: Go,Wait,Break\n",
        "5. Agent function: \n",
        "    [RED,On] --> Stop\n",
        "    [RED,Off] --> Wait\n",
        "    [GREEN,On] --> Go\n",
        "    [GREEN,Off] --> Wait"
      ]
    },
    {
      "cell_type": "markdown",
      "source": [
        "Table Driven Agent"
      ],
      "metadata": {
        "id": "0K_Egszu9Vpo"
      }
    },
    {
      "cell_type": "code",
      "execution_count": 10,
      "metadata": {
        "id": "uKEfWWEgSyei",
        "colab": {
          "base_uri": "https://localhost:8080/"
        },
        "outputId": "ca804ff7-0a63-4a3b-9d07-286762cd2a81"
      },
      "outputs": [
        {
          "name": "stdout",
          "output_type": "stream",
          "text": [
            "Perception Received: ('GREEN', 'ON')\n",
            "Action Performed: GO\n",
            "Get Perception (yes/no): yes\n",
            "Perception Received: ('RED', 'ON')\n",
            "Action Performed: STOP\n",
            "Get Perception (yes/no): yes\n",
            "Perception Received: ('GREEN', 'ON')\n",
            "Action Performed: GO\n",
            "Get Perception (yes/no): yes\n",
            "Perception Received: ('RED', 'OFF')\n",
            "Action Performed: WAIT\n",
            "Get Perception (yes/no): yes\n",
            "Perception Received: ('RED', 'ON')\n",
            "Action Performed: STOP\n",
            "Get Perception (yes/no): yes\n",
            "Perception Received: ('GREEN', 'ON')\n",
            "Action Performed: GO\n",
            "Get Perception (yes/no): yes\n",
            "Perception Received: ('RED', 'ON')\n",
            "Action Performed: STOP\n",
            "Get Perception (yes/no): no\n"
          ]
        }
      ],
      "source": [
        "table={('RED','ON'):'STOP',\n",
        "       ('RED','OFF'):'WAIT',\n",
        "       ('GREEN','ON'):'GO',\n",
        "       ('GREEN','OFF'):'WAIT'}\n",
        "\n",
        "percepts=[]  # to store percept sequence  \n",
        "def table_driven_agent(percept):\n",
        "    print('Perception Received: '+ str(percept))\n",
        "    percepts.append(percept) # updating percept history\n",
        "    action = lookup(percept,table) # searching for action\n",
        "    return action\n",
        "\n",
        "def lookup(percept,table):\n",
        "    return table[percept]\n",
        "\n",
        "# lets simulate the agent\n",
        "import random\n",
        "Location = random.choice(['RED','GREEN'])\n",
        "Condition = random.choice(['ON','OFF'])\n",
        "\n",
        "while True: # to perceieve environment repeatedly\n",
        "    action = table_driven_agent((Location, Condition))\n",
        "    print('Action Performed: '+ action)\n",
        "    cmd = input('Get Perception (yes/no): ')\n",
        "    if(cmd != 'yes'): break\n",
        "    if action == 'GO':\n",
        "        Location = 'RED'\n",
        "        Condition = random.choice(['ON','OFF'])\n",
        "    elif action == 'STOP':\n",
        "        Location = 'GREEN'\n",
        "        Condition = random.choice(['ON','OFF'])\n",
        "    else:\n",
        "        Condition = 'ON'   "
      ]
    },
    {
      "cell_type": "markdown",
      "source": [
        "Simple Reflex Agent\n"
      ],
      "metadata": {
        "id": "4oN6WIQ89MCH"
      }
    },
    {
      "cell_type": "code",
      "source": [
        "def simple_reflex_agent(percept):\n",
        "    print('Perception Received: '+ str(percept))\n",
        "    location = percept[0]\n",
        "    status = percept[1]\n",
        "    if status =='OFF':\n",
        "        action = 'WAIT'\n",
        "    elif location == 'RED':\n",
        "        action = 'STOP'\n",
        "    elif location =='GREEN':\n",
        "        action = 'GO'\n",
        "    return action\n",
        "\n",
        "import random\n",
        "Location = random.choice(['RED','GREEN'])\n",
        "Condition = random.choice(['ON','OFF'])\n",
        "\n",
        "while True:\n",
        "    action= simple_reflex_agent((Location,Condition))\n",
        "    print('Action Performed: '+ action)\n",
        "    cmd = input('Get Perception (yes/no): ')\n",
        "    if(cmd == 'no' or cmd != 'yes'): break\n",
        "    if action == 'GO':\n",
        "        Location = 'RED'\n",
        "        Condition = random.choice(['ON','OFF'])\n",
        "    elif action== 'STOP':\n",
        "        Location = 'GREEN'\n",
        "        Condition = random.choice(['ON','OFF'])\n",
        "    else:\n",
        "        Condition = 'ON'"
      ],
      "metadata": {
        "colab": {
          "base_uri": "https://localhost:8080/"
        },
        "id": "lQke25Xs9TJc",
        "outputId": "642b3a74-59a8-49d2-ea3b-e54bf765f9da"
      },
      "execution_count": 15,
      "outputs": [
        {
          "name": "stdout",
          "output_type": "stream",
          "text": [
            "Perception Received: ('GREEN', 'OFF')\n",
            "Action Performed: WAIT\n",
            "Get Perception (yes/no): yes\n",
            "Perception Received: ('GREEN', 'ON')\n",
            "Action Performed: GO\n",
            "Get Perception (yes/no): yes\n",
            "Perception Received: ('RED', 'OFF')\n",
            "Action Performed: WAIT\n",
            "Get Perception (yes/no): yes\n",
            "Perception Received: ('RED', 'ON')\n",
            "Action Performed: STOP\n",
            "Get Perception (yes/no): yes\n",
            "Perception Received: ('GREEN', 'ON')\n",
            "Action Performed: GO\n",
            "Get Perception (yes/no): yes\n",
            "Perception Received: ('RED', 'OFF')\n",
            "Action Performed: WAIT\n",
            "Get Perception (yes/no): no\n"
          ]
        }
      ]
    }
  ],
  "metadata": {
    "kernelspec": {
      "display_name": "Python 3",
      "language": "python",
      "name": "python3"
    },
    "language_info": {
      "codemirror_mode": {
        "name": "ipython",
        "version": 3
      },
      "file_extension": ".py",
      "mimetype": "text/x-python",
      "name": "python",
      "nbconvert_exporter": "python",
      "pygments_lexer": "ipython3",
      "version": "3.8.8"
    },
    "colab": {
      "name": "Week 03 Agents (3).ipynb",
      "provenance": [],
      "collapsed_sections": []
    }
  },
  "nbformat": 4,
  "nbformat_minor": 0
}