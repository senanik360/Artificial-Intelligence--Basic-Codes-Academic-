{
  "cells": [
    {
      "cell_type": "markdown",
      "metadata": {
        "id": "nz8Q6nBSaf7k"
      },
      "source": [
        "###### To solve a puzzle, you are given an initial state and a goal state.\n",
        "###### Target is to reach goal state from initial state using puzzle rules.\n",
        "######  We can move blank tile only on left, right, up, and down\n",
        "![Capture.JPG](attachment:Capture.JPG)"
      ]
    },
    {
      "cell_type": "markdown",
      "metadata": {
        "id": "SaqziTVFaf7s"
      },
      "source": [
        "# Generate an intial state of NPuzzle"
      ]
    },
    {
      "cell_type": "code",
      "execution_count": 24,
      "metadata": {
        "scrolled": true,
        "id": "iTX34gUNaf7t"
      },
      "outputs": [],
      "source": [
        "import numpy as np\n",
        "import random\n",
        "def get_state(N):    \n",
        "    state = [item for item in range(N*N)]# [0,1,2,...,15]  -- List\n",
        "    #print(state)\n",
        "    random.shuffle(state)\n",
        "    #print(state)\n",
        "    tmp = np.array(state)\n",
        "    print(tmp.reshape(N,N))\n",
        "    return state"
      ]
    },
    {
      "cell_type": "code",
      "execution_count": 25,
      "metadata": {
        "colab": {
          "base_uri": "https://localhost:8080/"
        },
        "id": "QKTU1E1Iaf7v",
        "outputId": "52c43244-723c-4035-aa40-4e20f5110290"
      },
      "outputs": [
        {
          "output_type": "stream",
          "name": "stdout",
          "text": [
            "[[ 9 15  3  5]\n",
            " [10  7  0 14]\n",
            " [ 4  2 12  8]\n",
            " [ 6 11  1 13]]\n"
          ]
        },
        {
          "output_type": "execute_result",
          "data": {
            "text/plain": [
              "[9, 15, 3, 5, 10, 7, 0, 14, 4, 2, 12, 8, 6, 11, 1, 13]"
            ]
          },
          "metadata": {},
          "execution_count": 25
        }
      ],
      "source": [
        "get_state(4)"
      ]
    },
    {
      "cell_type": "markdown",
      "metadata": {
        "id": "3hD4ieUaaf7x"
      },
      "source": [
        "# Calculate inversion"
      ]
    },
    {
      "cell_type": "markdown",
      "metadata": {
        "id": "CkoMv0C8af7y"
      },
      "source": [
        "Inversion is a pair of tiles that are in the reverse order from where they ought to be. In our case, the bigger number is in front of the smaller one.\n",
        "\n"
      ]
    },
    {
      "cell_type": "markdown",
      "metadata": {
        "id": "JcfDN45Caf7y"
      },
      "source": [
        "![Capture.JPG](attachment:Capture.JPG)"
      ]
    },
    {
      "cell_type": "code",
      "execution_count": 26,
      "metadata": {
        "id": "-W9FOmneaf7z"
      },
      "outputs": [],
      "source": [
        "def count_inversion(state):\n",
        "    #arr = [i for i in arr if i !=0]\n",
        "    #print(state)\n",
        "    inversion = []\n",
        "    for i in range(len(state)):    \n",
        "        count = 0\n",
        "        for j in range(i+1,len(state)): \n",
        "               if state[i] > state[j]: \n",
        "                             if state[j] != 0 : \n",
        "                               count = count + 1 \n",
        "                    \n",
        "        inversion.append(count)\n",
        "    #print(inversion)\n",
        "    return sum(inversion)"
      ]
    },
    {
      "cell_type": "code",
      "execution_count": 27,
      "metadata": {
        "colab": {
          "base_uri": "https://localhost:8080/"
        },
        "id": "sWAiuZfjaf71",
        "outputId": "c52e9ced-1db5-4d67-815c-cc8082d938cb"
      },
      "outputs": [
        {
          "output_type": "stream",
          "name": "stdout",
          "text": [
            "[[ 6 15  9  2]\n",
            " [11  7  1 12]\n",
            " [ 0  4  5  3]\n",
            " [14 10 13  8]]\n"
          ]
        },
        {
          "output_type": "execute_result",
          "data": {
            "text/plain": [
              "49"
            ]
          },
          "metadata": {},
          "execution_count": 27
        }
      ],
      "source": [
        "s = get_state(4)\n",
        "count_inversion(s)"
      ]
    },
    {
      "cell_type": "markdown",
      "source": [
        "# **Find blank row**"
      ],
      "metadata": {
        "id": "EDn9_ODN1RFU"
      }
    },
    {
      "cell_type": "code",
      "execution_count": 45,
      "metadata": {
        "id": "R7-N-A6Oaf76"
      },
      "outputs": [],
      "source": [
        "# find row position of the blank tile\n",
        "import math\n",
        "def get_blank_row(state):\n",
        "  count=0\n",
        "  N = math.sqrt(len(state))\n",
        "  for i in range(len(state)):\n",
        "    if(state[i]==0):\n",
        "      count=i+1\n",
        "      break\n",
        "  return (N+1-math.ceil(count/N))\n",
        "          \n"
      ]
    },
    {
      "cell_type": "code",
      "source": [
        "get_blank_row(s)"
      ],
      "metadata": {
        "colab": {
          "base_uri": "https://localhost:8080/"
        },
        "id": "nsIqSjob5GrJ",
        "outputId": "1ecd47cf-78e9-4015-93e7-3a6c462c6d82"
      },
      "execution_count": 46,
      "outputs": [
        {
          "output_type": "execute_result",
          "data": {
            "text/plain": [
              "2.0"
            ]
          },
          "metadata": {},
          "execution_count": 46
        }
      ]
    },
    {
      "cell_type": "code",
      "source": [
        "count_inversion(s)"
      ],
      "metadata": {
        "colab": {
          "base_uri": "https://localhost:8080/"
        },
        "id": "SYUjA9XNCoBg",
        "outputId": "42ac3a2e-c881-4d06-ed58-8aa85c4ef56f"
      },
      "execution_count": 44,
      "outputs": [
        {
          "output_type": "execute_result",
          "data": {
            "text/plain": [
              "49"
            ]
          },
          "metadata": {},
          "execution_count": 44
        }
      ]
    },
    {
      "cell_type": "code",
      "source": [
        "print(s)"
      ],
      "metadata": {
        "colab": {
          "base_uri": "https://localhost:8080/"
        },
        "id": "YKmHbvVPDqIA",
        "outputId": "35da77c1-8a89-4ffe-a65f-430f2a219769"
      },
      "execution_count": 39,
      "outputs": [
        {
          "output_type": "stream",
          "name": "stdout",
          "text": [
            "[6, 15, 9, 2, 11, 7, 1, 12, 0, 4, 5, 3, 14, 10, 13, 8]\n"
          ]
        }
      ]
    },
    {
      "cell_type": "markdown",
      "metadata": {
        "id": "8bTLG_ZQaf73"
      },
      "source": [
        "# Solvability Rules"
      ]
    },
    {
      "cell_type": "code",
      "execution_count": 58,
      "metadata": {
        "id": "0ciw2n-uaf77"
      },
      "outputs": [],
      "source": [
        "# apply the rules to decide solvability\n",
        "#  N, I, R\n",
        "# define a method to return solvability (input S)\n",
        "# return True if solvable or False if not\n",
        "\n",
        "def isSolvable(initialState):\n",
        " # N = ?\n",
        " # I = ?#call function here\n",
        " # R = ?#call function here\n",
        "  # decide solvability\n",
        "   I = count_inversion(initialState)\n",
        "   N = math.sqrt(len(initialState))\n",
        "   R = get_blank_row(initialState)\n",
        "  \n",
        "   if (N%2==1 and I%2==0):\n",
        "        return True\n",
        "   elif(N%2==0 and R%2==1 and I%2==0):\n",
        "        return True\n",
        "   elif(N%2==0 and R%2==0 and I%2==1):\n",
        "        return True\n",
        "   else:\n",
        "      return False\n",
        "  \n"
      ]
    },
    {
      "cell_type": "code",
      "source": [
        "S = get_state(4)\n",
        "isSolvable(S)\n"
      ],
      "metadata": {
        "id": "u2TGpQfNhnP2",
        "colab": {
          "base_uri": "https://localhost:8080/"
        },
        "outputId": "bb5ace8a-a6b8-4f5f-c793-73e73dfc11fb"
      },
      "execution_count": 59,
      "outputs": [
        {
          "output_type": "stream",
          "name": "stdout",
          "text": [
            "[[ 1  6  7  3]\n",
            " [13  2  5  8]\n",
            " [ 4 12 14  9]\n",
            " [10 15  0 11]]\n"
          ]
        },
        {
          "output_type": "execute_result",
          "data": {
            "text/plain": [
              "True"
            ]
          },
          "metadata": {},
          "execution_count": 59
        }
      ]
    },
    {
      "cell_type": "code",
      "source": [
        "get_blank_row(s)"
      ],
      "metadata": {
        "colab": {
          "base_uri": "https://localhost:8080/"
        },
        "id": "UGQc36F9ErIU",
        "outputId": "51d5b504-ecd0-499b-a7bd-1ec927448ca9"
      },
      "execution_count": 53,
      "outputs": [
        {
          "output_type": "execute_result",
          "data": {
            "text/plain": [
              "2.0"
            ]
          },
          "metadata": {},
          "execution_count": 53
        }
      ]
    }
  ],
  "metadata": {
    "kernelspec": {
      "display_name": "Python 3",
      "language": "python",
      "name": "python3"
    },
    "language_info": {
      "codemirror_mode": {
        "name": "ipython",
        "version": 3
      },
      "file_extension": ".py",
      "mimetype": "text/x-python",
      "name": "python",
      "nbconvert_exporter": "python",
      "pygments_lexer": "ipython3",
      "version": "3.8.5"
    },
    "colab": {
      "name": "Week 07 N Puzzle Solvability.ipynb",
      "provenance": [],
      "collapsed_sections": []
    }
  },
  "nbformat": 4,
  "nbformat_minor": 0
}