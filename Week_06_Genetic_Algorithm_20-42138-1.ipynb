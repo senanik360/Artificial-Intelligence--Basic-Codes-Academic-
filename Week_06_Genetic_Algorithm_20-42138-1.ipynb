{
  "cells": [
    {
      "cell_type": "markdown",
      "metadata": {
        "id": "O5x7T2XxRqdv"
      },
      "source": [
        "### Problem: Maximize f(x) = x<sup>2</sup> - 11x + 150 when x = 0 to 255"
      ]
    },
    {
      "cell_type": "markdown",
      "metadata": {
        "id": "ywY6mjLkRqd2"
      },
      "source": [
        "Representation or ecoding solution:\n",
        "x can be represented using 8 bits binary number."
      ]
    },
    {
      "cell_type": "markdown",
      "metadata": {
        "id": "h_AzBq1MRqd3"
      },
      "source": [
        "# Step 1: Initialize Population"
      ]
    },
    {
      "cell_type": "code",
      "execution_count": 1,
      "metadata": {
        "_cell_guid": "b1076dfc-b9ad-4769-8c92-a6c4dae69d19",
        "_uuid": "8f2839f25d086af736a60e9eeb907d3b93b6e0e5",
        "id": "1bOfcsluRqd4"
      },
      "outputs": [],
      "source": [
        "import random\n",
        "def initPopulation(b, n =10): # n is the number of solutions, b is the length\n",
        "    p = [random.choices([0,1],k = b) for i in range(n)] \n",
        "    return p"
      ]
    },
    {
      "cell_type": "code",
      "execution_count": 2,
      "metadata": {
        "colab": {
          "base_uri": "https://localhost:8080/"
        },
        "id": "xqpElpd6Rqd7",
        "outputId": "a100369c-59bf-4d9c-dfad-cbe3a6a74e43"
      },
      "outputs": [
        {
          "output_type": "execute_result",
          "data": {
            "text/plain": [
              "[[1, 0, 0, 0, 1, 1, 1, 0],\n",
              " [1, 1, 0, 0, 1, 0, 1, 0],\n",
              " [0, 0, 1, 1, 1, 0, 1, 1],\n",
              " [1, 0, 0, 0, 0, 1, 0, 0],\n",
              " [0, 1, 1, 1, 1, 0, 1, 0],\n",
              " [1, 0, 0, 0, 0, 1, 1, 0]]"
            ]
          },
          "metadata": {},
          "execution_count": 2
        }
      ],
      "source": [
        "initPopulation(8,6)\n"
      ]
    },
    {
      "cell_type": "markdown",
      "metadata": {
        "id": "295Y_a8JRqd8"
      },
      "source": [
        "# Step 2: Reproduction or Parent Selection"
      ]
    },
    {
      "cell_type": "markdown",
      "metadata": {
        "id": "Q-2xm1Y0Rqd9"
      },
      "source": [
        "Fitness Calculation"
      ]
    },
    {
      "cell_type": "code",
      "execution_count": 3,
      "metadata": {
        "id": "GeSnMD0hRqd_"
      },
      "outputs": [],
      "source": [
        "def binToDecimal(binList):\n",
        "  decValue = 0 # decimel value\n",
        "  power = len(binList)\n",
        "  for digit in binList: # binary to decimel\n",
        "    decValue += digit*2**(power-1)\n",
        "    power -= 1\n",
        "  return decValue\n",
        "\n",
        "def func(x):\n",
        "  return x**2 - 11*x + 150\n",
        "\n",
        "def getFitness(p): # p is the whole population\n",
        "    f = [] # to store fitness values\n",
        "    for sol in p:\n",
        "        d = binToDecimal(sol)\n",
        "        v = func(d)\n",
        "        if v< 0: f.append(0)\n",
        "        else: f.append(v) # fitness function\n",
        "    return f"
      ]
    },
    {
      "cell_type": "code",
      "source": [
        "binToDecimal([1,0,0,1,0])"
      ],
      "metadata": {
        "colab": {
          "base_uri": "https://localhost:8080/"
        },
        "id": "nugIz9nWlDdT",
        "outputId": "b3c07819-c6c1-43b6-de8a-59b90b7f7a73"
      },
      "execution_count": 4,
      "outputs": [
        {
          "output_type": "execute_result",
          "data": {
            "text/plain": [
              "18"
            ]
          },
          "metadata": {},
          "execution_count": 4
        }
      ]
    },
    {
      "cell_type": "code",
      "source": [
        " func(5)"
      ],
      "metadata": {
        "id": "9-MhmocjlaFn",
        "colab": {
          "base_uri": "https://localhost:8080/"
        },
        "outputId": "ade21761-043e-4145-c2b5-5ac863c15e4b"
      },
      "execution_count": 5,
      "outputs": [
        {
          "output_type": "execute_result",
          "data": {
            "text/plain": [
              "120"
            ]
          },
          "metadata": {},
          "execution_count": 5
        }
      ]
    },
    {
      "cell_type": "code",
      "execution_count": 6,
      "metadata": {
        "colab": {
          "base_uri": "https://localhost:8080/"
        },
        "id": "bDE-fRdFRqeB",
        "outputId": "bf8774a0-0baa-44ea-9f7e-493f85f4172d"
      },
      "outputs": [
        {
          "output_type": "execute_result",
          "data": {
            "text/plain": [
              "[210, 1680, 50072, 9432, 42762, 45702, 120, 302, 13692, 54176]"
            ]
          },
          "metadata": {},
          "execution_count": 6
        }
      ],
      "source": [
        "population = initPopulation(8,10)\n",
        "getFitness(population)"
      ]
    },
    {
      "cell_type": "markdown",
      "metadata": {
        "id": "MuyfwGTDRqeC"
      },
      "source": [
        "calculate probability and select parents"
      ]
    },
    {
      "cell_type": "code",
      "execution_count": 7,
      "metadata": {
        "id": "lK4uQOsrRqeC"
      },
      "outputs": [],
      "source": [
        "import numpy as np\n",
        "def select_parent(n, pop): # probability, parent selection\n",
        "#n = number of parent\n",
        "    # probability\n",
        "    fitness = getFitness(pop)\n",
        "    total_fitness = sum(fitness)\n",
        "    prob = [f/total_fitness for f in fitness]\n",
        "    cumSumProb = np.cumsum(prob)\n",
        "    #print(cumSumProb)\n",
        "    # parent selection\n",
        "    parents = []\n",
        "    for i in range(n):\n",
        "        # roullete wheel, generate a random number\n",
        "        r = random.random()\n",
        "        #print(r)\n",
        "        # check bin number of r        \n",
        "        for j in range(len(cumSumProb)):\n",
        "            if r <= cumSumProb[j] :#checking the bin\n",
        "                #print(j)\n",
        "                parents.append(pop[j])\n",
        "                break\n",
        "    return parents"
      ]
    },
    {
      "cell_type": "code",
      "execution_count": 8,
      "metadata": {
        "colab": {
          "base_uri": "https://localhost:8080/"
        },
        "id": "3-lCH3ZoRqeD",
        "outputId": "a35aac40-e91b-405b-d00f-80340c90f2c2"
      },
      "outputs": [
        {
          "output_type": "stream",
          "name": "stdout",
          "text": [
            "[[0, 0, 0, 0, 1, 0, 1, 0], [1, 0, 0, 1, 0, 1, 1, 1], [1, 1, 0, 0, 1, 1, 0, 0], [1, 0, 0, 1, 1, 1, 1, 1], [1, 1, 0, 0, 1, 1, 0, 1], [0, 1, 1, 1, 0, 0, 0, 0], [1, 1, 0, 1, 1, 1, 0, 0], [0, 0, 1, 0, 0, 0, 1, 0], [0, 1, 1, 0, 1, 0, 1, 0], [1, 0, 0, 0, 0, 0, 0, 1]]\n",
            "[[1, 1, 0, 0, 1, 1, 0, 0], [1, 0, 0, 1, 1, 1, 1, 1], [1, 1, 0, 0, 1, 1, 0, 1], [1, 1, 0, 1, 1, 1, 0, 0], [0, 1, 1, 1, 0, 0, 0, 0], [1, 0, 0, 0, 0, 0, 0, 1]]\n"
          ]
        }
      ],
      "source": [
        "population = initPopulation(8,10)\n",
        "print(population)\n",
        "parents = select_parent(6, population)\n",
        "print(parents)"
      ]
    },
    {
      "cell_type": "markdown",
      "metadata": {
        "id": "HTf2wgA_RqeE"
      },
      "source": [
        "# Step 3: Crossover"
      ]
    },
    {
      "cell_type": "code",
      "execution_count": 9,
      "metadata": {
        "id": "PwgF2uv6RqeF"
      },
      "outputs": [],
      "source": [
        "# define a method crossover (input is parents set)\n",
        "def cross(p): #p=parent\n",
        "  num_cross = len(p)//2\n",
        "  # print(num_cross)\n",
        "  offsprings = []\n",
        "  #  for loop to perform crossovers\n",
        "  m=0\n",
        "  for i in range(num_cross):\n",
        "   cp = random.choice(range(3,6))\n",
        "   # print(cp)\n",
        "   # perform crossover\n",
        "   x,y = p[m],p[m+1]\n",
        "   m+=2\n",
        "   # modify the above line as the parents will be different for each crossover\n",
        "   off1 = x[:cp] + y[cp:]\n",
        "   offsprings.append(off1)\n",
        "\n",
        "   # write code for off2\n",
        "   off2 = y[:cp] + x[cp:]\n",
        "   offsprings.append(off2)\n",
        "  return offsprings"
      ]
    },
    {
      "cell_type": "code",
      "source": [
        "off = cross(parents)\n",
        "off"
      ],
      "metadata": {
        "colab": {
          "base_uri": "https://localhost:8080/"
        },
        "id": "gNH0V9eRRGHy",
        "outputId": "024a340d-c860-44c5-8e8f-48dee66cbfd5"
      },
      "execution_count": 10,
      "outputs": [
        {
          "output_type": "execute_result",
          "data": {
            "text/plain": [
              "[[1, 1, 0, 0, 1, 1, 1, 1],\n",
              " [1, 0, 0, 1, 1, 1, 0, 0],\n",
              " [1, 1, 0, 1, 1, 1, 0, 0],\n",
              " [1, 1, 0, 0, 1, 1, 0, 1],\n",
              " [0, 1, 1, 1, 0, 0, 0, 1],\n",
              " [1, 0, 0, 0, 0, 0, 0, 0]]"
            ]
          },
          "metadata": {},
          "execution_count": 10
        }
      ]
    },
    {
      "cell_type": "markdown",
      "source": [
        "# Step 4: Mutation"
      ],
      "metadata": {
        "id": "96AgRoxSVaV2"
      }
    },
    {
      "cell_type": "code",
      "source": [
        "# Perform mutation with 3% probability\n",
        "# def mutate(offsp, pr = 0.03):\n",
        "import random\n",
        "def mutate(offsp, pr = 0.03):\n",
        "   num_off=len(offsp)\n",
        "   lnn=len(offsp[0])\n",
        "\n",
        "\n",
        "   for i in range(num_off):\n",
        "     for j in range(lnn):\n",
        "       r=random.random()\n",
        "\n",
        "       if r <= pr:\n",
        "         print(offsp[i])\n",
        "         \n",
        "         if offsp[i][j]==0:\n",
        "           offsp[i][j]=1\n",
        "\n",
        "         else:\n",
        "           offsp[i][j]=0\n",
        "\n",
        "        \n",
        "         print(j)\n",
        "\n",
        "   return offsp"
      ],
      "metadata": {
        "id": "CDun2Et1VdZe"
      },
      "execution_count": 11,
      "outputs": []
    },
    {
      "cell_type": "code",
      "source": [
        ""
      ],
      "metadata": {
        "id": "hzhe3a9dzESn"
      },
      "execution_count": 11,
      "outputs": []
    },
    {
      "cell_type": "markdown",
      "metadata": {
        "id": "Zx8t0GLTRqeG"
      },
      "source": [
        "# Step 5: Select Survivor\n",
        "The selected survivors (solutions) will be added to population"
      ]
    },
    {
      "cell_type": "markdown",
      "metadata": {
        "id": "aTh52_9WRqeG"
      },
      "source": [
        "Select top 2 offspring based on fitness value and add them to population."
      ]
    },
    {
      "cell_type": "code",
      "execution_count": 12,
      "metadata": {
        "id": "MhgbFzZHRqeH"
      },
      "outputs": [],
      "source": [
        "# define a method to select top offsprings (input offsprings, top)\n",
        "def select_survivor(offsp):\n",
        "  topOffsp = []\n",
        "  f = getFitness(offsp)\n",
        "  mInd = f.index(max(f))\n",
        "  topOffsp.append(offsp[mInd])\n",
        "  f.pop(mInd)\n",
        "  #print(f)\n",
        "  mInd = f.index(max(f))\n",
        "  topOffsp.append(offsp[mInd])\n",
        "  return topOffsp"
      ]
    },
    {
      "cell_type": "code",
      "source": [
        "select_survivor(off)"
      ],
      "metadata": {
        "colab": {
          "base_uri": "https://localhost:8080/"
        },
        "id": "9_-3CouTRm7E",
        "outputId": "f76343d9-1efb-4bb5-9e4f-c978ef4a6e4d"
      },
      "execution_count": 13,
      "outputs": [
        {
          "output_type": "execute_result",
          "data": {
            "text/plain": [
              "[[1, 1, 0, 1, 1, 1, 0, 0], [1, 1, 0, 0, 1, 1, 1, 1]]"
            ]
          },
          "metadata": {},
          "execution_count": 13
        }
      ]
    },
    {
      "cell_type": "code",
      "source": [
        "def best(p):\n",
        "  f = getFitness(p)\n",
        "  mInd = f.index(max(f))\n",
        "  return p[mInd], max(f)"
      ],
      "metadata": {
        "id": "7Gm7ebem3dh1"
      },
      "execution_count": 14,
      "outputs": []
    },
    {
      "cell_type": "markdown",
      "source": [
        "# **Complete iteration**"
      ],
      "metadata": {
        "id": "G4tLqF-TRyS5"
      }
    },
    {
      "cell_type": "code",
      "source": [
        "# modify the below code to iterate the process for 3 generations\n",
        "# in each generation show the best solution in population with fitness value\n",
        "population = initPopulation(8,10)\n",
        "for i in range(10):\n",
        "  print(best(population))\n",
        "  parents = select_parent(6, population)\n",
        "  offsprings = cross(parents)\n",
        "#  mutation here\n",
        "  mutate(offsprings, pr = 0.03)\n",
        "  survivors = select_survivor(offsprings)\n",
        "  updatedPopulation = population + survivors\n",
        "  #print(best(updatedPopulation))\n",
        "  population = updatedPopulation \n",
        "  "
      ],
      "metadata": {
        "colab": {
          "base_uri": "https://localhost:8080/"
        },
        "id": "fIOX062HPMSc",
        "outputId": "7b8a391a-e068-4c97-f5d8-f32087936a6f"
      },
      "execution_count": 16,
      "outputs": [
        {
          "output_type": "stream",
          "name": "stdout",
          "text": [
            "([1, 1, 0, 1, 0, 1, 1, 0], 43592)\n",
            "[1, 1, 0, 1, 0, 1, 1, 0]\n",
            "6\n",
            "([1, 1, 0, 1, 0, 1, 1, 0], 43592)\n",
            "([1, 1, 0, 1, 0, 1, 1, 0], 43592)\n",
            "[1, 0, 0, 1, 0, 1, 0, 0]\n",
            "2\n",
            "([1, 1, 0, 1, 0, 1, 1, 0], 43592)\n",
            "[1, 0, 1, 1, 0, 1, 1, 0]\n",
            "7\n",
            "([1, 1, 0, 1, 0, 1, 1, 0], 43592)\n",
            "[1, 1, 0, 1, 0, 0, 1, 0]\n",
            "3\n",
            "([1, 1, 0, 1, 1, 0, 1, 1], 45702)\n",
            "[1, 0, 0, 1, 0, 1, 1, 1]\n",
            "7\n",
            "[1, 1, 0, 1, 0, 0, 1, 0]\n",
            "4\n",
            "([1, 1, 0, 1, 1, 0, 1, 1], 45702)\n",
            "[1, 0, 0, 1, 0, 1, 0, 1]\n",
            "7\n",
            "([1, 1, 0, 1, 1, 0, 1, 1], 45702)\n",
            "[1, 0, 1, 1, 1, 0, 1, 1]\n",
            "0\n",
            "([1, 1, 0, 1, 1, 0, 1, 1], 45702)\n",
            "([1, 1, 0, 1, 1, 0, 1, 1], 45702)\n",
            "[1, 1, 0, 1, 0, 1, 0, 1]\n",
            "1\n"
          ]
        }
      ]
    }
  ],
  "metadata": {
    "kernelspec": {
      "display_name": "Python 3",
      "language": "python",
      "name": "python3"
    },
    "language_info": {
      "codemirror_mode": {
        "name": "ipython",
        "version": 3
      },
      "file_extension": ".py",
      "mimetype": "text/x-python",
      "name": "python",
      "nbconvert_exporter": "python",
      "pygments_lexer": "ipython3",
      "version": "3.8.5"
    },
    "colab": {
      "name": "Week 06 Genetic Algorithm.ipynb",
      "provenance": [],
      "collapsed_sections": []
    }
  },
  "nbformat": 4,
  "nbformat_minor": 0
}