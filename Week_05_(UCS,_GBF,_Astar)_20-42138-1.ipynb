{
  "cells": [
    {
      "cell_type": "markdown",
      "metadata": {
        "id": "d-DKmj30luYm"
      },
      "source": [
        "![map.JPG](attachment:map.JPG)"
      ]
    },
    {
      "cell_type": "code",
      "execution_count": null,
      "metadata": {
        "id": "goGfzJW8luYu"
      },
      "outputs": [],
      "source": [
        "rmap = {\n",
        "    'Arad': {'Sibiu':140, 'Zerind':75, 'Timisoara':118},\n",
        "    'Zerind': {'Arad':75, 'Oradea':71},\n",
        "    'Oradea': {'Zerind':71, 'Sibiu': 151},\n",
        "    'Sibiu': {'Arad':140, 'Oradea':151, 'Fagaras':99, 'Rimnicu':80},\n",
        "    'Timisoara': {'Arad': 118, 'Lugoj':111},\n",
        "    'Lugoj': {'Timisoara':111, 'Mehadia':70},\n",
        "    'Mehadia': {'Lugoj': 70, 'Drobeta':75},\n",
        "    'Drobeta': {'Mehadia':75, 'Craiova':120},\n",
        "    'Craiova': {'Drobeta': 120, 'Rimnicu': 146, 'Pitesti': 138},\n",
        "    'Rimnicu': {'Sibiu': 80, 'Craiova': 146, 'Pitesti': 97},\n",
        "    'Fagaras': {'Sibiu':99, 'Bucharest':211},\n",
        "    'Pitesti': {'Rimnicu': 97, 'Craiova':138, 'Bucharest':101},\n",
        "    'Bucharest': {'Fagaras':211, 'Pitesti': 101, 'Giurgiu':90, 'Urziceni':85},\n",
        "    'Giurgiu': {'Bucharest': 90},\n",
        "    'Urziceni': {'Bucharest': 85, 'Vaslui':142, 'Hirsova':98},\n",
        "    'Hirsova': {'Urziceni':98, 'Eforie':86},\n",
        "    'Eforie': {'Hirsova':86},\n",
        "    'Vaslui': {'Iasi': 92, 'Urziceni':142},\n",
        "    'Iasi': {'Vaslui':92, 'Neamt': 87},\n",
        "    'Neamt': {'Iasi':87}\n",
        "}"
      ]
    },
    {
      "cell_type": "code",
      "source": [
        "EX1 = {\n",
        "    'S': {'A': 1,'B': 2,'C': 1},\n",
        "    'A':{'C':1,'D':2,'G':6},\n",
        "    'B': {'D':2,'E':3},\n",
        "    'C':{'G':8},\n",
        "    'D':{'E':1},\n",
        "    'E':{'G':1},\n",
        "    'G':{}\n",
        "}"
      ],
      "metadata": {
        "id": "QAsqNEF9Putu"
      },
      "execution_count": null,
      "outputs": []
    },
    {
      "cell_type": "markdown",
      "metadata": {
        "id": "KRCzk7hwluYx"
      },
      "source": [
        "# Uniform Cost Search"
      ]
    },
    {
      "cell_type": "code",
      "execution_count": null,
      "metadata": {
        "id": "Caz8BtEWluYy"
      },
      "outputs": [],
      "source": [
        "from queue import PriorityQueue\n",
        "\n",
        "\n",
        "def ucs(snode, dnode, GRAPH):\n",
        "    expanded = [] # to store expanded nodes\n",
        "    frontier = PriorityQueue()\n",
        "\n",
        "    node = (0,snode,[snode]) #(g(n) = path cost, city name, path)\n",
        "    frontier.put(node)\n",
        "    i = 1\n",
        "    while not frontier.empty():\n",
        "        node = frontier.get() # select a node for expansion\n",
        "        u = node[1]\n",
        "        if u in expanded:\n",
        "          continue \n",
        "        print()\n",
        "        print(u+ \" selected. Cost: \"+ str(node[0]))\n",
        "        if u == dnode:# goal test            \n",
        "            print(\"*** GOAL TEST SATISFIED ***\")\n",
        "            print()\n",
        "            return node # path\n",
        "        expanded.append(u)\n",
        "        print('['+str(i)+']: '+u+\" expanding...\")\n",
        "        i = i +1\n",
        "        for v in GRAPH[u].keys():#expanding            \n",
        "            if v not in expanded:\n",
        "                g = node[0] + GRAPH[u][v]\n",
        "                path = node[2] + [v]\n",
        "                frontier.put((g,v,path))\n",
        "                print(u + \"->\"+v + \", Path: \"+ str(path) + \", Cost:\"+ str(g))\n",
        "        #print(frontier.queue)\n",
        "    print('Failed')"
      ]
    },
    {
      "cell_type": "code",
      "execution_count": null,
      "metadata": {
        "colab": {
          "base_uri": "https://localhost:8080/"
        },
        "id": "IwXpwVbKluYz",
        "outputId": "0de37395-182c-4e57-b0c0-9abd141ad857"
      },
      "outputs": [
        {
          "output_type": "stream",
          "name": "stdout",
          "text": [
            "\n",
            "S selected. Cost: 0\n",
            "[1]: S expanding...\n",
            "S->A, Path: ['S', 'A'], Cost:1\n",
            "S->B, Path: ['S', 'B'], Cost:2\n",
            "S->C, Path: ['S', 'C'], Cost:1\n",
            "\n",
            "A selected. Cost: 1\n",
            "[2]: A expanding...\n",
            "A->C, Path: ['S', 'A', 'C'], Cost:2\n",
            "A->D, Path: ['S', 'A', 'D'], Cost:3\n",
            "A->G, Path: ['S', 'A', 'G'], Cost:7\n",
            "\n",
            "C selected. Cost: 1\n",
            "[3]: C expanding...\n",
            "C->G, Path: ['S', 'C', 'G'], Cost:9\n",
            "\n",
            "B selected. Cost: 2\n",
            "[4]: B expanding...\n",
            "B->D, Path: ['S', 'B', 'D'], Cost:4\n",
            "B->E, Path: ['S', 'B', 'E'], Cost:5\n",
            "\n",
            "D selected. Cost: 3\n",
            "[5]: D expanding...\n",
            "D->E, Path: ['S', 'A', 'D', 'E'], Cost:4\n",
            "\n",
            "E selected. Cost: 4\n",
            "[6]: E expanding...\n",
            "E->G, Path: ['S', 'A', 'D', 'E', 'G'], Cost:5\n",
            "\n",
            "G selected. Cost: 5\n",
            "*** GOAL TEST SATISFIED ***\n",
            "\n"
          ]
        },
        {
          "output_type": "execute_result",
          "data": {
            "text/plain": [
              "(5, 'G', ['S', 'A', 'D', 'E', 'G'])"
            ]
          },
          "metadata": {},
          "execution_count": 5
        }
      ],
      "source": [
        "ucs('S', 'G', EX1) # change source and destination"
      ]
    },
    {
      "cell_type": "code",
      "execution_count": null,
      "metadata": {
        "id": "0mgZy0qRluY1"
      },
      "outputs": [],
      "source": [
        "# insert simulation of the ouput"
      ]
    },
    {
      "cell_type": "markdown",
      "metadata": {
        "id": "fKD43fSqluY2"
      },
      "source": [
        "# Greedy Best First Search"
      ]
    },
    {
      "cell_type": "code",
      "execution_count": null,
      "metadata": {
        "id": "Y355atJ_luY3"
      },
      "outputs": [],
      "source": [
        "# SLD heuristic for the destination (Bucharest)\n",
        "h = {'Arad': 366,'Zerind':  374,'Oradea': 380,'Sibiu': 253,\n",
        "    'Timisoara': 329,'Lugoj': 244,'Mehadia': 241,'Drobeta': 242,\n",
        "    'Craiova': 160,'Rimnicu': 193,'Fagaras': 176,'Pitesti': 100,\n",
        "    'Bucharest': 0,'Giurgiu': 77,'Urziceni': 80,'Hirsova': 151,\n",
        "    'Eforie': 161,'Vaslui': 199,'Iasi': 226,'Neamt': 234\n",
        "} "
      ]
    },
    {
      "cell_type": "code",
      "source": [
        "h = {'S':10,'A':8, 'B':5, 'C':5,\n",
        "     'D':4,'E':2, 'G':0}"
      ],
      "metadata": {
        "id": "Sl977GekTpLe"
      },
      "execution_count": null,
      "outputs": []
    },
    {
      "cell_type": "code",
      "execution_count": null,
      "metadata": {
        "_cell_guid": "b1076dfc-b9ad-4769-8c92-a6c4dae69d19",
        "_uuid": "8f2839f25d086af736a60e9eeb907d3b93b6e0e5",
        "id": "h-1PIbWaluY4"
      },
      "outputs": [],
      "source": [
        "from queue import PriorityQueue\n",
        "\n",
        "def gbfs(snode, dnode, GRAPH):\n",
        "    expanded = [] # to store expanded nodes\n",
        "    frontier = PriorityQueue()\n",
        "\n",
        "    snode = (h[snode],snode,[snode],0) # (h, city, path, path cost)\n",
        "    frontier.put(snode)\n",
        "    i =1\n",
        "    while not frontier.empty():\n",
        "        node = frontier.get() \n",
        "        u = node[1]\n",
        "        print(u+ \" selected. Cost: \"+ str(node[0]))\n",
        "        \n",
        "        if u== dnode:#Goal Test            \n",
        "            print(node)\n",
        "            print(expanded)\n",
        "            return node #path\n",
        "        expanded.append(u)\n",
        "        print('['+str(i)+']: '+u+\" expanding...\")\n",
        "        i = i+1\n",
        "        for v in GRAPH[u].keys():            \n",
        "            if v not in expanded:\n",
        "                g = node[3] + GRAPH[u][v]\n",
        "                path = node[2]+[v]\n",
        "                frontier.put((h[v],v,path, g))\n",
        "                print(u + \"->\"+v + \", Path: \"+ str(path) + \", h:\"+ str(h[v]))   \n",
        "    print('Failed')"
      ]
    },
    {
      "cell_type": "code",
      "execution_count": null,
      "metadata": {
        "id": "39lB5KBmluY6",
        "outputId": "03c76bc7-c763-4b02-f438-e2c8fdc0ffda",
        "colab": {
          "base_uri": "https://localhost:8080/"
        }
      },
      "outputs": [
        {
          "output_type": "stream",
          "name": "stdout",
          "text": [
            "S selected. Cost: 10\n",
            "[1]: S expanding...\n",
            "S->A, Path: ['S', 'A'], h:8\n",
            "S->B, Path: ['S', 'B'], h:5\n",
            "S->C, Path: ['S', 'C'], h:5\n",
            "B selected. Cost: 5\n",
            "[2]: B expanding...\n",
            "B->D, Path: ['S', 'B', 'D'], h:4\n",
            "B->E, Path: ['S', 'B', 'E'], h:2\n",
            "E selected. Cost: 2\n",
            "[3]: E expanding...\n",
            "E->G, Path: ['S', 'B', 'E', 'G'], h:0\n",
            "G selected. Cost: 0\n",
            "(0, 'G', ['S', 'B', 'E', 'G'], 6)\n",
            "['S', 'B', 'E']\n"
          ]
        },
        {
          "output_type": "execute_result",
          "data": {
            "text/plain": [
              "(0, 'G', ['S', 'B', 'E', 'G'], 6)"
            ]
          },
          "metadata": {},
          "execution_count": 10
        }
      ],
      "source": [
        "gbfs('S', 'G', EX1) # change source only"
      ]
    },
    {
      "cell_type": "code",
      "execution_count": null,
      "metadata": {
        "id": "E5uVkp26luY7"
      },
      "outputs": [],
      "source": [
        "# insert simulation of the ouput"
      ]
    },
    {
      "cell_type": "markdown",
      "metadata": {
        "id": "dDpUIOyWluY8"
      },
      "source": [
        "# A*"
      ]
    },
    {
      "cell_type": "code",
      "execution_count": null,
      "metadata": {
        "id": "ddEDeRqPluY8"
      },
      "outputs": [],
      "source": [
        "from queue import PriorityQueue\n",
        "\n",
        "def ass(snode, dnode, GRAPH):\n",
        "    expanded = [] # to store expanded nodes\n",
        "    frontier = PriorityQueue()\n",
        "\n",
        "    snode = (h[snode],snode,[snode],0) # (h, city, path, path cost)\n",
        "    frontier.put(snode)\n",
        "    i =1\n",
        "    while not frontier.empty():\n",
        "        node = frontier.get() \n",
        "        u = node[1]\n",
        "        print(u+ \" selected. Cost: \"+ str(node[0]))\n",
        "        \n",
        "        if u== dnode:#Goal Test            \n",
        "            print(node)\n",
        "            print(expanded)\n",
        "            return node #path\n",
        "        expanded.append(u)\n",
        "        print('['+str(i)+']: '+ u +\" expanding...\")\n",
        "        i = i+1\n",
        "        for v in GRAPH[u].keys():            \n",
        "            if v not in expanded:\n",
        "                g = node[3] + GRAPH[u][v]\n",
        "                path = node[2]+[v]\n",
        "                frontier.put((g+h[v],v,path, g))\n",
        "                print(u + \"->\"+v + \", Path: \"+ str(path) + \",g + h:\"+ str(g+h[v]))   \n",
        "    print('Failed')"
      ]
    },
    {
      "cell_type": "code",
      "execution_count": null,
      "metadata": {
        "id": "usP2NEKfluY9",
        "colab": {
          "base_uri": "https://localhost:8080/"
        },
        "outputId": "250b9599-ad8c-4d47-b46e-f6d6aa003a0c"
      },
      "outputs": [
        {
          "output_type": "stream",
          "name": "stdout",
          "text": [
            "S selected. Cost: 10\n",
            "[1]: S expanding...\n",
            "S->A, Path: ['S', 'A'],g + h:9\n",
            "S->B, Path: ['S', 'B'],g + h:7\n",
            "S->C, Path: ['S', 'C'],g + h:6\n",
            "C selected. Cost: 6\n",
            "[2]: C expanding...\n",
            "C->G, Path: ['S', 'C', 'G'],g + h:9\n",
            "B selected. Cost: 7\n",
            "[3]: B expanding...\n",
            "B->D, Path: ['S', 'B', 'D'],g + h:8\n",
            "B->E, Path: ['S', 'B', 'E'],g + h:7\n",
            "E selected. Cost: 7\n",
            "[4]: E expanding...\n",
            "E->G, Path: ['S', 'B', 'E', 'G'],g + h:6\n",
            "G selected. Cost: 6\n",
            "(6, 'G', ['S', 'B', 'E', 'G'], 6)\n",
            "['S', 'C', 'B', 'E']\n"
          ]
        },
        {
          "output_type": "execute_result",
          "data": {
            "text/plain": [
              "(6, 'G', ['S', 'B', 'E', 'G'], 6)"
            ]
          },
          "metadata": {},
          "execution_count": 12
        }
      ],
      "source": [
        "ass('S', 'G', EX1)"
      ]
    }
  ],
  "metadata": {
    "kernelspec": {
      "display_name": "Python 3",
      "language": "python",
      "name": "python3"
    },
    "language_info": {
      "codemirror_mode": {
        "name": "ipython",
        "version": 3
      },
      "file_extension": ".py",
      "mimetype": "text/x-python",
      "name": "python",
      "nbconvert_exporter": "python",
      "pygments_lexer": "ipython3",
      "version": "3.8.8"
    },
    "colab": {
      "name": "Week 05 (UCS, GBF, Astar).ipynb",
      "provenance": [],
      "collapsed_sections": []
    }
  },
  "nbformat": 4,
  "nbformat_minor": 0
}